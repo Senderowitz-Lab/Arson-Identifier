{
 "cells": [
  {
   "cell_type": "markdown",
   "id": "10639be3",
   "metadata": {},
   "source": [
    "# Arson Identifier"
   ]
  },
  {
   "cell_type": "markdown",
   "id": "a462b8f0",
   "metadata": {},
   "source": [
    "## Background"
   ]
  },
  {
   "cell_type": "markdown",
   "id": "ee407f78",
   "metadata": {},
   "source": [
    "The goal of Arson Identifier is to identify whether or not Fuels are present in a cases of potential arson.\n",
    "\n",
    "The Israeli DIFS has supplier us with spectra that was analyzed and tagged by a group of experts."
   ]
  },
  {
   "cell_type": "markdown",
   "id": "6fad84da",
   "metadata": {},
   "source": [
    "## Proposed Workflow"
   ]
  },
  {
   "cell_type": "markdown",
   "id": "2ea5b0d5",
   "metadata": {},
   "source": [
    "We are going to implement the following workflow\n",
    "\n",
    "<br>\n",
    "<br>\n",
    "<img src =\"img/Workflow.jpg\" width = \"1000\">"
   ]
  },
  {
   "cell_type": "code",
   "execution_count": 1,
   "id": "f85a1e97",
   "metadata": {},
   "outputs": [],
   "source": [
    "# Import of the modules we'll be using\n",
    "\n",
    "# Math modules\n",
    "import numpy as np\n",
    "import pandas as pd\n",
    "\n",
    "from collections import Counter\n",
    "\n",
    "# Plotting modules\n",
    "import matplotlib.pyplot as plt\n",
    "import seaborn as sns\n",
    "\n",
    "# Standard sklearn modules\n",
    "from sklearn.model_selection import train_test_split\n",
    "from sklearn.ensemble import RandomForestClassifier\n",
    "from sklearn.metrics import classification_report\n",
    "from sklearn.metrics import confusion_matrix\n",
    "from sklearn.model_selection import RandomizedSearchCV\n",
    "from sklearn.model_selection import cross_val_score\n",
    "from sklearn.neighbors import KNeighborsClassifier\n",
    "from sklearn.model_selection import GridSearchCV\n",
    "\n",
    "# Dl Modules\n",
    "from tensorflow import keras\n",
    "\n",
    "# Internally scripts written \n",
    "from helper_funcs import load_dbs\n",
    "from helper_funcs import preprocess_data\n",
    "from helper_funcs import logNorm\n",
    "from helper_funcs import progress_bar\n",
    "from helper_funcs import makeModelDyn\n",
    "from helper_funcs import generate_spectrum"
   ]
  },
  {
   "cell_type": "markdown",
   "id": "2de81c80",
   "metadata": {},
   "source": [
    "## Import Measurments"
   ]
  },
  {
   "cell_type": "markdown",
   "id": "a1c2c04a",
   "metadata": {},
   "source": [
    "The spectra that was given, was given in multiple forms: an excel file and a csv file, each may contain one spectra or many. "
   ]
  },
  {
   "cell_type": "code",
   "execution_count": 2,
   "id": "54431088",
   "metadata": {},
   "outputs": [],
   "source": [
    "# The seperation for two batches is historical. The two batches are unified into one.\n",
    "batch1 = {'BZ': ['many', 'Data/BZ - TRAIN'],\n",
    "               'PD': ['many', 'Data/pd - Train'],\n",
    "               'HR': ['one', 'Data/HOLER - TRAIN/HOLER-train.xlsx']\n",
    "}\n",
    "\n",
    "batch2 = {'BZ': ['one', 'Data/BZ - TEST/BZ.xlsx'],\n",
    "               'PD': ['one', 'Data/pd - Test/pd.xlsx'],\n",
    "               'HR': ['one', 'Data/HOLER - TEST/HOLER1.xlsx']\n",
    "}\n",
    "\n",
    "# An additional test case given by the DIFS\n",
    "test = {'BZ': ['one', 'Data/BZ - TEST/BZ.xlsx'],\n",
    "               'PD': ['one', 'Data/pd - Test/pd.xlsx'],\n",
    "               'HR': ['one', 'Data/HOLER - TEST/HOLER1.xlsx']\n",
    "}"
   ]
  },
  {
   "cell_type": "markdown",
   "id": "f26c2685",
   "metadata": {},
   "source": [
    "For this purpose, the first step is to convert the data into a standard format of the form:\n",
    "<br>\n",
    "<br>\n",
    "<table>\n",
    "  <tr>\n",
    "    <th>Time</th>\n",
    "    <th>Count</th>\n",
    "    <th>Class</th>\n",
    "    <th>SampleID</th>\n",
    "  </tr>\n",
    "  <tr>\n",
    "    <th>float - time interval (s)</th>\n",
    "    <th>int - number of counts</th>\n",
    "    <th>str - \"BZ\", \"PD\" or \"HR\"</th>\n",
    "    <th>int - index of a sample</th>\n",
    "  </tr>\n",
    "</table>\n",
    "\n",
    "In addition, the timestamps are standartized to be between 1(s) and 20(s) with incremets of 0.0065 (s)"
   ]
  },
  {
   "cell_type": "code",
   "execution_count": 3,
   "id": "7d890f15",
   "metadata": {},
   "outputs": [
    {
     "name": "stdout",
     "output_type": "stream",
     "text": [
      "Loaded training DB\n",
      "Loaded test DB\n"
     ]
    }
   ],
   "source": [
    "try:\n",
    "    training_db = pd.read_csv(\"Outputs/db.csv\")\n",
    "    print(\"Loaded training DB\")\n",
    "except:\n",
    "    print(\"Training file not found, making a new one\")\n",
    "    dbs_batch1 = load_dbs(batch1)\n",
    "    dbs_batch2 = load_dbs(batch2)\n",
    "    dbs_batch2[\"SampleID\"] += max(dbs_batch1[\"SampleID\"])+1\n",
    "    training_db = pd.concat([dbs_batch1, dbs_batch2])\n",
    "    training_db.to_csv(\"Outputs/db.csv\", index = False)\n",
    "    print(\"Done making a training file\")\n",
    "try:\n",
    "    test_db = pd.read_csv(\"Outputs/test.csv\")\n",
    "    print(\"Loaded test DB\")\n",
    "except:\n",
    "    print(\"Testing file not found, making a new one\")\n",
    "    dbs_test = load_dbs(batch1)\n",
    "    dbs_test.to_csv(\"Outputs/test.csv\", index = False)\n",
    "    print(\"Done making a test file\")"
   ]
  },
  {
   "cell_type": "markdown",
   "id": "ccbce4f9",
   "metadata": {},
   "source": [
    "Example of the \"sorted db\" that is composed of 181 samples:"
   ]
  },
  {
   "cell_type": "code",
   "execution_count": 4,
   "outputs": [
    {
     "data": {
      "text/plain": "           Time    Count Class  SampleID\n0        1.0000      0.0    BZ         0\n1        1.0065      0.0    BZ         0\n2        1.0130      0.0    BZ         0\n3        1.0195      0.0    BZ         0\n4        1.0260      0.0    BZ         0\n...         ...      ...   ...       ...\n529239  19.9735  21690.0    HR       180\n529240  19.9800  22739.0    HR       180\n529241  19.9865  44317.0    HR       180\n529242  19.9930  22576.0    HR       180\n529243  19.9995  23374.0    HR       180\n\n[529244 rows x 4 columns]",
      "text/html": "<div>\n<style scoped>\n    .dataframe tbody tr th:only-of-type {\n        vertical-align: middle;\n    }\n\n    .dataframe tbody tr th {\n        vertical-align: top;\n    }\n\n    .dataframe thead th {\n        text-align: right;\n    }\n</style>\n<table border=\"1\" class=\"dataframe\">\n  <thead>\n    <tr style=\"text-align: right;\">\n      <th></th>\n      <th>Time</th>\n      <th>Count</th>\n      <th>Class</th>\n      <th>SampleID</th>\n    </tr>\n  </thead>\n  <tbody>\n    <tr>\n      <th>0</th>\n      <td>1.0000</td>\n      <td>0.0</td>\n      <td>BZ</td>\n      <td>0</td>\n    </tr>\n    <tr>\n      <th>1</th>\n      <td>1.0065</td>\n      <td>0.0</td>\n      <td>BZ</td>\n      <td>0</td>\n    </tr>\n    <tr>\n      <th>2</th>\n      <td>1.0130</td>\n      <td>0.0</td>\n      <td>BZ</td>\n      <td>0</td>\n    </tr>\n    <tr>\n      <th>3</th>\n      <td>1.0195</td>\n      <td>0.0</td>\n      <td>BZ</td>\n      <td>0</td>\n    </tr>\n    <tr>\n      <th>4</th>\n      <td>1.0260</td>\n      <td>0.0</td>\n      <td>BZ</td>\n      <td>0</td>\n    </tr>\n    <tr>\n      <th>...</th>\n      <td>...</td>\n      <td>...</td>\n      <td>...</td>\n      <td>...</td>\n    </tr>\n    <tr>\n      <th>529239</th>\n      <td>19.9735</td>\n      <td>21690.0</td>\n      <td>HR</td>\n      <td>180</td>\n    </tr>\n    <tr>\n      <th>529240</th>\n      <td>19.9800</td>\n      <td>22739.0</td>\n      <td>HR</td>\n      <td>180</td>\n    </tr>\n    <tr>\n      <th>529241</th>\n      <td>19.9865</td>\n      <td>44317.0</td>\n      <td>HR</td>\n      <td>180</td>\n    </tr>\n    <tr>\n      <th>529242</th>\n      <td>19.9930</td>\n      <td>22576.0</td>\n      <td>HR</td>\n      <td>180</td>\n    </tr>\n    <tr>\n      <th>529243</th>\n      <td>19.9995</td>\n      <td>23374.0</td>\n      <td>HR</td>\n      <td>180</td>\n    </tr>\n  </tbody>\n</table>\n<p>529244 rows × 4 columns</p>\n</div>"
     },
     "execution_count": 4,
     "metadata": {},
     "output_type": "execute_result"
    }
   ],
   "source": [
    "training_db"
   ],
   "metadata": {
    "collapsed": false
   }
  },
  {
   "cell_type": "code",
   "execution_count": 5,
   "id": "76ee878c",
   "metadata": {},
   "outputs": [
    {
     "name": "stdout",
     "output_type": "stream",
     "text": [
      "One sample looks like this:\n",
      "         Time  Count Class  SampleID\n",
      "0      1.0000    0.0    BZ         0\n",
      "1      1.0065    0.0    BZ         0\n",
      "2      1.0130    0.0    BZ         0\n",
      "3      1.0195    0.0    BZ         0\n",
      "4      1.0260    0.0    BZ         0\n",
      "...       ...    ...   ...       ...\n",
      "2919  19.9735    0.0    BZ         0\n",
      "2920  19.9800    0.0    BZ         0\n",
      "2921  19.9865    0.0    BZ         0\n",
      "2922  19.9930    0.0    BZ         0\n",
      "2923  19.9995    0.0    BZ         0\n",
      "\n",
      "[2924 rows x 4 columns]\n"
     ]
    }
   ],
   "source": [
    "# One sample will tange from 1 (m) to ~20 (m)\n",
    "print(\"One sample looks like this:\")\n",
    "print(training_db[training_db[\"SampleID\"]==0])"
   ]
  },
  {
   "cell_type": "markdown",
   "id": "adb70c33",
   "metadata": {},
   "source": [
    "We know see that the size of spectra is always 2924 and that can be used to sort the samples to a matrix of A[i,j] where i is the index of the sample and j is the time index.\n",
    "\n",
    "In addition, we wish to encode the textual classes to numbers. As follows:\n",
    "<br>\n",
    "<br>\n",
    "<br>\n",
    "<img src =\"img/preprocess.jpg\" width = \"500\">"
   ]
  },
  {
   "cell_type": "markdown",
   "id": "3f874b1c",
   "metadata": {},
   "source": [
    "## Continuous Spectra Discretization and data preperation"
   ]
  },
  {
   "cell_type": "code",
   "execution_count": 6,
   "id": "6ef80e5a",
   "metadata": {},
   "outputs": [
    {
     "name": "stdout",
     "output_type": "stream",
     "text": [
      "The shape of the processed training data is: (181, 2924)\n",
      "The size of the training class vector  is: (181,)\n",
      "Over all class distribution within the database is:\n",
      "BZ : 53\n",
      "PD : 81\n",
      "HR : 47\n"
     ]
    }
   ],
   "source": [
    "SIZE_OF_SPECTRA = 2924\n",
    "# We will take the continuous spectra, convert it into discrete time units, and partition it to a feature matrix and a class vector. \n",
    "realSpectra, class_vec, label_encoder = preprocess_data(training_db, SIZE_OF_SPECTRA)\n",
    "# realSpectra: Feature matrix. ith row contains an individual spectra\n",
    "# class_vec: Classification vector. ith value contains the enumeration of a the class for the ith spectra\n",
    "# label_encoder: The encoder class instance.\n",
    "\n",
    "print(\"The shape of the processed training data is:\",realSpectra.shape)\n",
    "print(\"The size of the training class vector  is:\",class_vec.shape)\n",
    "print(\"Over all class distribution within the database is:\")\n",
    "\n",
    "\n",
    "def print_classes(class_vec, label_encoder):\n",
    "    # A helper funtion to print the counts with names\n",
    "    counts = Counter(class_vec)\n",
    "    for key in counts.keys():\n",
    "        print(label_encoder.classes_[key],\":\", str(counts[key]))\n",
    "        \n",
    "print_classes(class_vec, label_encoder)"
   ]
  },
  {
   "cell_type": "markdown",
   "id": "e673d80c",
   "metadata": {},
   "source": [
    "We can visualize each class seperatly"
   ]
  },
  {
   "cell_type": "code",
   "execution_count": 7,
   "id": "65e88472",
   "metadata": {},
   "outputs": [
    {
     "data": {
      "text/plain": "[Text(0.5, 0, 'Elapsed time (m)'), Text(0, 0.5, 'Counts')]"
     },
     "execution_count": 7,
     "metadata": {},
     "output_type": "execute_result"
    },
    {
     "data": {
      "text/plain": "<Figure size 1296x720 with 9 Axes>",
      "image/png": "[encoded data removed]"
     },
     "metadata": {},
     "output_type": "display_data"
    }
   ],
   "source": [
    "x = [i for i in np.arange(1,20,0.0065)]\n",
    "fig, axes = plt.subplots(3, 3, figsize=(18, 10))\n",
    "axes[0, 0].set_title(label_encoder.inverse_transform(np.array([0]))[0] + '\\n', size=25)\n",
    "sns.lineplot(ax=axes[0, 0], x = x ,y = realSpectra[class_vec==0][1,:])\n",
    "axes[0,0].set(xlabel='Elapsed time (m)', ylabel='Counts')\n",
    "sns.lineplot(ax=axes[1, 0], x = x ,y = realSpectra[class_vec==0][2,:])\n",
    "axes[1,0].set(xlabel='Elapsed time (m)', ylabel='Counts')\n",
    "sns.lineplot(ax=axes[2, 0], x = x ,y = realSpectra[class_vec==0][3,:])\n",
    "axes[2,0].set(xlabel='Elapsed time (m)', ylabel='Counts')\n",
    "\n",
    "axes[0, 1].set_title(label_encoder.inverse_transform(np.array([1]))[0] + '\\n', size=25)\n",
    "sns.lineplot(ax=axes[0, 1], x = x ,y = realSpectra[class_vec==1][1,:])\n",
    "axes[0,1].set(xlabel='Elapsed time (m)', ylabel='Counts')\n",
    "sns.lineplot(ax=axes[1, 1], x = x ,y = realSpectra[class_vec==1][2,:])\n",
    "axes[1,1].set(xlabel='Elapsed time (m)', ylabel='Counts')\n",
    "sns.lineplot(ax=axes[2, 1], x = x ,y = realSpectra[class_vec==1][3,:])\n",
    "axes[2,1].set(xlabel='Elapsed time (m)', ylabel='Counts')\n",
    "\n",
    "axes[0, 2].set_title(label_encoder.inverse_transform(np.array([2]))[0] + '\\n', size=25)\n",
    "sns.lineplot(ax=axes[0, 2], x = x ,y = realSpectra[class_vec==2][1,:])\n",
    "axes[0,2].set(xlabel='Elapsed time (m)', ylabel='Counts')\n",
    "sns.lineplot(ax=axes[1, 2], x = x ,y = realSpectra[class_vec==2][2,:])\n",
    "axes[1,2].set(xlabel='Elapsed time (m)', ylabel='Counts')\n",
    "sns.lineplot(ax=axes[2, 2], x = x ,y = realSpectra[class_vec==2][3,:])\n",
    "axes[2,2].set(xlabel='Elapsed time (m)', ylabel='Counts')"
   ]
  },
  {
   "cell_type": "markdown",
   "id": "c321791e",
   "metadata": {},
   "source": [
    "# Training | Validation split"
   ]
  },
  {
   "cell_type": "markdown",
   "id": "5acb4a24",
   "metadata": {},
   "source": [
    "Once the spectra has beed discretized, the database (realSpectra, and class_vec) is partitioned into a training and a validation set.<br> "
   ]
  },
  {
   "cell_type": "code",
   "execution_count": 8,
   "id": "cb83e5e0",
   "metadata": {},
   "outputs": [
    {
     "name": "stdout",
     "output_type": "stream",
     "text": [
      "Training set is composed of:\n",
      "PD : 54\n",
      "BZ : 36\n",
      "HR : 31\n",
      "\n",
      "Validation set is composed of:\n",
      "BZ : 17\n",
      "PD : 27\n",
      "HR : 16\n"
     ]
    }
   ],
   "source": [
    "def train_val_partition(realSpectra, class_vec, test_size=0.33):   \n",
    "    X_train, X_val, y_train, y_val = train_test_split(realSpectra, class_vec, test_size=0.33, stratify = class_vec)\n",
    "    print(\"Training set is composed of:\")\n",
    "    print_classes(y_train, label_encoder)\n",
    "    print(\"\")\n",
    "    print(\"Validation set is composed of:\")\n",
    "    print_classes(y_val, label_encoder)\n",
    "    return X_train, X_val, y_train, y_val\n",
    "X_train, X_val, y_train, y_val = train_val_partition(realSpectra, class_vec)"
   ]
  },
  {
   "cell_type": "markdown",
   "id": "d3322572",
   "metadata": {},
   "source": [
    "# Normalization"
   ]
  },
  {
   "cell_type": "markdown",
   "id": "57611af6",
   "metadata": {},
   "source": [
    "It is a good practice to normalize the discrete spectra before passing it to classification models. This is especially true for neural network, where values must be normalized to range between 0 and 1.\n",
    "As the data spans over several orders of magnitude we calculate the log scale. Then, we normalized the values using the max and min values of the log values of the measured (real) spectra.\n",
    "<br><br>\n",
    "The normalization process works as follows:\n",
    "- Calculate the log value of each element\n",
    "- negative infinity values (log(0) were set to be 0\n",
    "- log values were normalized as follows:\n",
    "$$\n",
    "normalized\\, value = \\frac{log\\,value}{upper\\, log\\, bound - lower\\, log\\, bound} +lower\\, log\\, bound \n",
    "$$\n",
    "<br>\n",
    "- Values above max bound and below min mounds were set to be 0 and 1 respectivly"
   ]
  },
  {
   "cell_type": "code",
   "execution_count": 9,
   "id": "4fcde940",
   "metadata": {},
   "outputs": [],
   "source": [
    "def normalize_spectra(X_train,X_val=None,realSpectraBounds=None,debug = False):\n",
    "    np.seterr(divide='ignore')\n",
    "    if realSpectraBounds is None:\n",
    "        logSpec = np.log(X_train) # get log value of the entire matrix\n",
    "        logSpec[np.isinf(logSpec)] = 0 # make log of -inf to 0\n",
    "        realSpectraBounds = (np.min(logSpec), np.max(logSpec))\n",
    "    X_train_norm = logNorm(X_train, realSpectraBounds) # Normalize training set\n",
    "    if X_val is not None:\n",
    "        X_val_norm = logNorm(X_val, realSpectraBounds) # Normalize test set\n",
    "    else:\n",
    "        X_val_norm = None\n",
    "    if debug:\n",
    "        # We can visuzalize the change\n",
    "        gen_spec = 8\n",
    "        fig, axes = plt.subplots(1,2)\n",
    "        x = [i for i in np.arange(1,20,0.0065)]\n",
    "        sns.lineplot(ax=axes[0], x = x ,y = X_train[gen_spec]).set(title='Before normalizing', xlabel='Elapsed time (s)', ylabel='Counts')\n",
    "        sns.lineplot(ax=axes[1], x = x ,y = X_train_norm[gen_spec]).set(title='After normalizing', xlabel='Elapsed time (s)', ylabel='Counts')\n",
    "        fig.tight_layout()\n",
    "    return X_train_norm,X_val_norm,realSpectraBounds\n",
    "X_train_norm,X_val_norm, realSpectraBounds = normalize_spectra(X_train,X_val)"
   ]
  },
  {
   "cell_type": "markdown",
   "source": [
    "## Applicability Domain and Spectrum Score\n",
    "\n",
    "<p>The applicability domain for a classifying model on unknown spectra can be determined by the spectra it that have been used to build the model in the first place:</p>\n",
    "<p>For each flammable class, we can define the mean and standard deviation of spectra signals at each timepoint.</p>\n",
    "<p>For an unknown spectrum submitted to the model, we can assess if the signal is inside or outside the mean and standard deviation of the training set:</p>\n",
    "<p>A \"Spectrum Score\" is defined as below in the figure:</p>\n",
    "<br>\n",
    "<img src =\"img/spectrumScoreGraph.PNG\" width = \"1000\">\n",
    "\n",
    "<br>\n",
    "For our purposes we can define this applicability domain for each class, look at each item in the test sets and try to explain model performance based on Spectrum Scores of test-set samples"
   ],
   "metadata": {
    "collapsed": false
   }
  },
  {
   "cell_type": "markdown",
   "id": "594ac1af",
   "metadata": {},
   "source": [
    "# Synthesize new data"
   ]
  },
  {
   "cell_type": "markdown",
   "id": "cfe35ef4",
   "metadata": {},
   "source": [
    "For classifiers that require more data than exsists (specifically, DL), there is a need to generate more data.\n",
    "\n",
    "To do so, we will assume that any linear combination of spectra of the same type, will create a new spectra of that type.\n",
    "\n",
    "The workflow is as follows:\n",
    "- Randomly determine the amount of spectra that will be linearly combined - <B>N</B>\n",
    "- Randomly sample that number of spectra from <I>realSpectra</I>\n",
    "- Randomly draw N continuous numbers that act as weights - <B>W</B>\n",
    "- Perform a dot multiplication\n",
    "\n",
    "The amount of possible combinations can be calculated as:\n",
    "\n",
    "$$\n",
    "L = Total\\, amount\\, of \\, spectra\\, in\\, a\\, class \\\\\n",
    "N = number\\, of\\, spectra \\, to\\, linearly\\, combine \\\\\n",
    "S = Sampled\\, spectra \\\\\n",
    "W = Weights\\, vector \\\\\n",
    "\\\\\n",
    "combination = \\sum_{k=1}^{L} {L \\brack k}\n",
    "$$\n",
    "The new spectra is calculates as follows:\n",
    "$$\n",
    "s_i = The\\, sampled\\, i^{th}\\, spectra \\\\\n",
    "w_i = The \\, i^{th}\\, weight\\\\\n",
    "new\\, spectra = \\sum_{k=1}^{N} s_i\\cdot w_i\\\\\n",
    "Or \\\\\n",
    "new\\, spectra = S\\cdot W\n",
    "$$\n",
    "<br>\n",
    "<br>\n",
    "A sample of 40 specimens that contained both real and generated spectra was sent to a panel of two police experts.\n",
    "The results located in /Outputs/police_test_15_08_21.csv\n",
    "<br>\n",
    "<br>\n",
    "\n",
    "| |Expert 1| Expert 2|\n",
    "|-----|-------|-----|\n",
    "|Identification success ratio|60% | 75%|\n",
    "\n",
    "<br>\n",
    "On face value it seems that the synthesation process is valid as the results are close to 50% (max entropy). In addition, there is no agreement between the experts on some spectra, thus the samples may appear as authentic to some experts and inauthetic to others."
   ]
  },
  {
   "cell_type": "code",
   "execution_count": 10,
   "id": "15c4e3cc",
   "metadata": {},
   "outputs": [
    {
     "name": "stdout",
     "output_type": "stream",
     "text": [
      "Progress: [------------------> ] 99%\r"
     ]
    }
   ],
   "source": [
    "def syn_data(realSpectra, class_vec, batch_size=10**5, debug = False):\n",
    "    synSpectra, syn_classes = generate_spectrum(realSpectra, class_vec, batch_size)\n",
    "    synSpectra = np.squeeze(synSpectra)\n",
    "    # For debugging purposes only\n",
    "    if debug:\n",
    "        fig, axes = plt.subplots(3, 2, figsize=(18, 10))\n",
    "        gen_spec = 8\n",
    "        sns.lineplot(ax=axes[0,0], data = X_train_norm[gen_spec]).set(title='Generated to be ' + label_encoder.classes_[classes[gen_spec]])\n",
    "        sns.lineplot(ax=axes[0,1], data = synSpectra[gen_spec]).set(title='Generated to be ' + label_encoder.classes_[classes[gen_spec]])\n",
    "        gen_spec = 5\n",
    "        sns.lineplot(ax=axes[1,0], data = X_train_norm[gen_spec]).set(title='Generated to be ' + label_encoder.classes_[classes[gen_spec]])\n",
    "        sns.lineplot(ax=axes[1,1], data = synSpectra[gen_spec]).set(title='Generated to be ' + label_encoder.classes_[classes[gen_spec]])\n",
    "        gen_spec = 20\n",
    "        sns.lineplot(ax=axes[2,0], data = X_train_norm[gen_spec]).set(title='Generated to be ' + label_encoder.classes_[classes[gen_spec]])\n",
    "        sns.lineplot(ax=axes[2,1], data = synSpectra[gen_spec]).set(title='Generated to be ' + label_encoder.classes_[classes[gen_spec]])\n",
    "    return synSpectra,syn_classes\n",
    "\n",
    "#Synthesize new synthesized spectra\n",
    "syn_spectra,syn_classes = syn_data(realSpectra, class_vec)\n",
    "#Normalize synthesized spectra\n",
    "syn_spectra_norm,_,synSpectraBounds = normalize_spectra(syn_spectra,realSpectraBounds=realSpectraBounds)"
   ]
  },
  {
   "cell_type": "markdown",
   "source": [
    "The Applicability Domain can be constructed from the real spectra or synthetically generated spectra"
   ],
   "metadata": {
    "collapsed": false
   }
  },
  {
   "cell_type": "markdown",
   "id": "06830ee5",
   "metadata": {},
   "source": [
    "# Classification"
   ]
  },
  {
   "cell_type": "markdown",
   "id": "472e6fbe",
   "metadata": {},
   "source": [
    "Our goal is to create a proper classifier that will distinguish the samples classes.To this end, we will use several methods:\n",
    "* RF\n",
    "* kNN\n",
    "* Representative Spectra (RS) for each class\n",
    "* DL\n",
    "\n",
    "Of which RF, kNN and DL have hyperparameters that needs to be tubed for optimal perforamces.\n",
    "To this end, we will use random grid search and exhaustive grid search. <br>\n",
    "\n",
    "This workflow has two classical ML classification algorithms with tunable hyperparameter. These classifiers will be applied on both the regular data and the regular + synthesized data. <br>\n",
    "This means two sets of tunable hyperparameters for both classifiers.\n",
    "\n",
    "We'll define representative spectra as the mean of all known spectra within the training set\n",
    "\n",
    "While RF and kNN are self explanitory, the DL network that will be used, is a simple one:\n",
    "The normalized training DB will now be an input to a 3 hidden, FC, layered NN\n",
    "<br>\n",
    "\n",
    "<img src =\"img/nn.jpg\" width = \"300\">"
   ]
  },
  {
   "cell_type": "code",
   "execution_count": 11,
   "id": "6885f24f",
   "metadata": {},
   "outputs": [],
   "source": [
    "def repSpectraClass(train_set,class_vec,val_set, debug=False, label_encoder=None):\n",
    "    # For the purpose of this work, there are three classes\n",
    "    class0_rep = np.mean(train_set[class_vec==0],axis=0)\n",
    "    class1_rep = np.mean(train_set[class_vec==1],axis=0)\n",
    "    class2_rep = np.mean(train_set[class_vec==2],axis=0)\n",
    "    \n",
    "    y_pred = []\n",
    "    for x in val_set:\n",
    "        y_pred.append(np.argmin((np.sum(np.power(np.subtract(x,class0_rep),2)),  np.sum(np.power(np.subtract(x,class1_rep),2)), np.sum(np.power(np.subtract(x,class2_rep),2)))))\n",
    "        \n",
    "    x = [i for i in np.arange(1,20,0.0065)]\n",
    "\n",
    "    if debug is True:\n",
    "        fig, axes = plt.subplots(3, 3, figsize=(18, 10))\n",
    "\n",
    "        axes[0, 0].set_title(label_encoder.inverse_transform(np.array([0]))[0] + '\\n', size=25)\n",
    "        axes[0, 1].set_title(label_encoder.inverse_transform(np.array([1]))[0] + '\\n', size=25)\n",
    "        axes[0,2].set_title(label_encoder.inverse_transform(np.array([2]))[0] + '\\n', size=25)\n",
    "\n",
    "        axes[0,2].set(xlabel='Elapsed time (m)', ylabel='Counts')\n",
    "        sns.lineplot(ax=axes[0,0], x=x, y=class0_mean, alpha = 0.3, color = \"red\")\n",
    "        sns.lineplot(ax=axes[0,0], x=x, y=X_train_norm[y_train==0][0,:], alpha = 0.8)\n",
    "\n",
    "        axes[0,1].set(xlabel='Elapsed time (m)', ylabel='Counts')\n",
    "        sns.lineplot(ax=axes[1,0], x=x, y=class0_mean, alpha = 0.3, color = \"red\")\n",
    "        sns.lineplot(ax=axes[1,0], x=x, y=X_train_norm[y_train==0][10,:], alpha = 0.8)\n",
    "\n",
    "        axes[0,2].set(xlabel='Elapsed time (m)', ylabel='Counts')\n",
    "        sns.lineplot(ax=axes[2,0], x=x, y=class0_mean, alpha = 0.3, color = \"red\")\n",
    "        sns.lineplot(ax=axes[2,0], x=x, y=X_train_norm[y_train==0][21,:], alpha = 0.8)\n",
    "\n",
    "        axes[1,0].set(xlabel='Elapsed time (m)', ylabel='Counts')\n",
    "        sns.lineplot(ax=axes[0,1], x=x, y=class1_mean, alpha = 0.3, color = \"red\")\n",
    "        sns.lineplot(ax=axes[0,1], x=x, y=X_train_norm[y_train==1][0,:], alpha = 0.8)\n",
    "\n",
    "        axes[1,1].set(xlabel='Elapsed time (m)', ylabel='Counts')\n",
    "        sns.lineplot(ax=axes[1,1], x=x, y=class1_mean, alpha = 0.3, color = \"red\")\n",
    "        sns.lineplot(ax=axes[1,1], x=x, y=X_train_norm[y_train==1][10,:], alpha = 0.8)\n",
    "\n",
    "        axes[1,2].set(xlabel='Elapsed time (m)', ylabel='Counts')\n",
    "        sns.lineplot(ax=axes[2,1], x=x, y=class1_mean, alpha = 0.3, color = \"red\")\n",
    "        sns.lineplot(ax=axes[2,1], x=x, y=X_train_norm[y_train==1][20,:], alpha = 0.8)\n",
    "\n",
    "        axes[2,0].set(xlabel='Elapsed time (m)', ylabel='Counts')\n",
    "        sns.lineplot(ax=axes[0,2], x=x, y=class2_mean, alpha = 0.3, color = \"red\")\n",
    "        sns.lineplot(ax=axes[0,2], x=x, y=X_train_norm[y_train==2][0,:], alpha = 0.8)\n",
    "\n",
    "        axes[2,1].set(xlabel='Elapsed time (m)', ylabel='Counts')\n",
    "        sns.lineplot(ax=axes[1,2], x=x, y=class2_mean, alpha = 0.3, color = \"red\")\n",
    "        sns.lineplot(ax=axes[1,2], x=x, y=X_train_norm[y_train==2][10,:], alpha = 0.8)\n",
    "\n",
    "        axes[2,2].set(xlabel='Elapsed time (m)', ylabel='Counts')\n",
    "        sns.lineplot(ax=axes[2,2], x=x, y=class2_mean, alpha = 0.3, color = \"red\")\n",
    "        sns.lineplot(ax=axes[2,2], x=x, y=X_train_norm[y_train==2][20,:], alpha = 0.8)\n",
    "    return y_pred\n",
    "    "
   ]
  },
  {
   "cell_type": "markdown",
   "id": "cadc964e",
   "metadata": {},
   "source": [
    "## Hyperparameter optimization"
   ]
  },
  {
   "cell_type": "markdown",
   "id": "7ad62960",
   "metadata": {},
   "source": [
    "<b> Random Forest (RF) </b> <br>\n",
    "We wish to maximize performances from RF, so we wish to perform hypter parameter optimization. <br>\n",
    "First, we'll establish a becnchmark, using RF classifier deault values: <br> \n",
    "n_estimators = 100<br> \n",
    "criterion = gini<br>\n",
    "max_depth = None <br>\n",
    "min_samples_split = 2 <br>\n",
    "min_samples_leaf = 1 <br>\n",
    "max_features = sqrt <br>\n",
    "bootstrap = True <br>\n",
    "\n",
    "<b> kNN </b> <br>\n",
    "In kNN case, only k needs to be tuned"
   ]
  },
  {
   "cell_type": "markdown",
   "id": "1ce99520",
   "metadata": {},
   "source": [
    "### Create benchmarks"
   ]
  },
  {
   "cell_type": "code",
   "execution_count": null,
   "id": "a8d0b0b1",
   "metadata": {
    "pycharm": {
     "is_executing": true
    }
   },
   "outputs": [
    {
     "name": "stdout",
     "output_type": "stream",
     "text": [
      "Training set is composed of:\n",
      "PD : 54\n",
      "BZ : 36\n",
      "HR : 31\n",
      "\n",
      "Validation set is composed of:\n",
      "PD : 27\n",
      "BZ : 17\n",
      "HR : 16\n",
      "              precision    recall  f1-score   support\n",
      "\n",
      "          BZ       0.67      0.94      0.78        17\n",
      "          HR       0.93      0.88      0.90        16\n",
      "          PD       0.86      0.67      0.75        27\n",
      "\n",
      "    accuracy                           0.80        60\n",
      "   macro avg       0.82      0.83      0.81        60\n",
      "weighted avg       0.82      0.80      0.80        60\n",
      "\n",
      "    BZ  HR  PD\n",
      "BZ   7   4   6\n",
      "HR   3   5   8\n",
      "PD  14   6   7\n",
      "              precision    recall  f1-score   support\n",
      "\n",
      "          BZ       0.68      0.88      0.77        17\n",
      "          HR       1.00      0.88      0.93        16\n",
      "          PD       0.88      0.78      0.82        27\n",
      "\n",
      "    accuracy                           0.83        60\n",
      "   macro avg       0.85      0.85      0.84        60\n",
      "weighted avg       0.85      0.83      0.84        60\n",
      "\n",
      "    BZ  HR  PD\n",
      "BZ   3   4  10\n",
      "HR   4   6   6\n",
      "PD  15   4   8\n",
      "Training set is composed of:\n",
      "BZ : 22219\n",
      "PD : 22532\n",
      "HR : 22249\n",
      "\n",
      "Validation set is composed of:\n",
      "BZ : 10944\n",
      "PD : 11097\n",
      "HR : 10959\n"
     ]
    }
   ],
   "source": [
    "# ---------------- Regular data------------\n",
    "temp_x_train, temp_x_val, temp_y_train, temp_y_val = train_val_partition(realSpectra, class_vec)\n",
    "\n",
    "# Benchmark for RF performed on original spectra\n",
    "RF_benchmark = RandomForestClassifier()\n",
    "RF_benchmark.fit(temp_x_train, temp_y_train)\n",
    "y_pred = RF_benchmark.predict(temp_x_val)\n",
    "print(classification_report(temp_y_val, y_pred, target_names=label_encoder.classes_))\n",
    "print(pd.DataFrame(confusion_matrix(y_val, y_pred), index = label_encoder.classes_, columns = label_encoder.classes_))\n",
    "\n",
    "# Benchmark for kNN performed on original spectra\n",
    "kNN_benchmark = KNeighborsClassifier()\n",
    "kNN_benchmark.fit(temp_x_train, temp_y_train)\n",
    "y_pred = kNN_benchmark.predict(temp_x_val)\n",
    "print(classification_report(temp_y_val, y_pred, target_names=label_encoder.classes_))\n",
    "print(pd.DataFrame(confusion_matrix(y_val, y_pred), index = label_encoder.classes_, columns = label_encoder.classes_))\n",
    "# ---------------- Syn data------------\n",
    "syn_temp_x_train, syn_temp_x_val, syn_temp_y_train, syn_temp_y_val = train_val_partition(syn_spectra_norm, syn_classes)\n",
    "\n",
    "# Benchmark for RF performed on synthesized spectra\n",
    "RF_benchmark_syn = RandomForestClassifier()\n",
    "RF_benchmark_syn.fit(syn_temp_x_train, syn_temp_y_train)\n",
    "y_pred = RF_benchmark_syn.predict(syn_temp_x_val)\n",
    "print(classification_report(syn_temp_y_val, y_pred, target_names=label_encoder.classes_))\n",
    "print(pd.DataFrame(confusion_matrix(syn_temp_y_val, y_pred), index = label_encoder.classes_, columns = label_encoder.classes_))\n",
    "\n",
    "# Benchmark for kNN performed on synthesized spectra\n",
    "kNN_benchmark_syn = KNeighborsClassifier()\n",
    "kNN_benchmark_syn.fit(syn_temp_x_train, syn_temp_y_train)\n",
    "y_pred = kNN_benchmark_syn.predict(syn_temp_x_val)\n",
    "print(classification_report(syn_temp_y_val, y_pred, target_names=label_encoder.classes_))\n",
    "print(pd.DataFrame(confusion_matrix(syn_temp_y_val, y_pred), index = label_encoder.classes_, columns = label_encoder.classes_))"
   ]
  },
  {
   "cell_type": "markdown",
   "id": "15ef2a83",
   "metadata": {},
   "source": [
    "### Optimize values"
   ]
  },
  {
   "cell_type": "code",
   "execution_count": null,
   "id": "deef6dab",
   "metadata": {
    "pycharm": {
     "is_executing": true
    }
   },
   "outputs": [],
   "source": [
    "# ---------------------------RF----------------------\n",
    "\n",
    "# Tuning the hyperparams as described in the documentation: https://scikit-learn.org/stable/modules/generated/sklearn.ensemble.RandomForestClassifier.html\n",
    "# Number of trees in random forest\n",
    "n_estimators = [int(x) for x in np.linspace(start = 200, stop = 2000, num = 10)]\n",
    "# The function to measure the quality of a split.\n",
    "criterion = [\"gini\", \"entropy\"]\n",
    "# Maximum number of levels in tree\n",
    "max_depth = [int(x) for x in np.linspace(10, 110, num = 11)]\n",
    "max_depth.append(None)\n",
    "# Minimum number of samples required to split a node\n",
    "min_samples_split = [2, 5, 10]\n",
    "# Minimum number of samples required at each leaf node\n",
    "min_samples_leaf = [1, 2, 4]\n",
    "# Number of features to consider at every split\n",
    "max_features = [\"sqrt\", \"log2\", None]\n",
    "# Method of selecting samples for training each tree\n",
    "bootstrap = [True, False]\n",
    "\n",
    "# Create the random grid\n",
    "random_grid = {'n_estimators': n_estimators,\n",
    "               'criterion':criterion,\n",
    "               'max_features': max_features,\n",
    "               'max_depth': max_depth,\n",
    "               'min_samples_split': min_samples_split,\n",
    "               'min_samples_leaf': min_samples_leaf,\n",
    "               'bootstrap': bootstrap}\n",
    "\n",
    "# ---------------------------kNN----------------------\n",
    "# Get optimal num of neighbors\n",
    "knn = KNeighborsClassifier()\n",
    "param_grid = {'n_neighbors': np.arange(1, 25)}\n",
    "knn_cv = GridSearchCV(knn, param_grid, cv=10)\n",
    "knn_cv.fit(X_train_norm, y_train)"
   ]
  },
  {
   "cell_type": "code",
   "execution_count": null,
   "id": "d7c42f83",
   "metadata": {
    "pycharm": {
     "is_executing": true
    }
   },
   "outputs": [],
   "source": [
    "# temp_x_train, temp_x_val, temp_y_train, temp_y_val\n",
    "# and\n",
    "# syn_temp_x_train, syn_temp_x_val, syn_temp_y_train, syn_temp_y_val\n",
    "# From previous cell\n",
    "# -------------------------RF ----------------------\n",
    "#---------- Regular data-------\n",
    "RF_tuned = RandomForestClassifier()\n",
    "rf_random = RandomizedSearchCV(estimator = RF_tuned, param_distributions = random_grid, n_iter = 10, cv = 3, verbose=2, n_jobs = -1)\n",
    "rf_random.fit(temp_x_train, temp_y_train)\n",
    "\n",
    "params = rf_random.best_params_\n",
    "print(params)\n",
    "RF_tuned = RandomForestClassifier(n_estimators=params['n_estimators'],\n",
    "                                  min_samples_split=params['min_samples_split'],\n",
    "                                  min_samples_leaf=params['min_samples_leaf'],\n",
    "                                  max_features=params['max_features'],\n",
    "                                  max_depth=params['max_depth'],\n",
    "                                  criterion=params['criterion'],\n",
    "                                  bootstrap=params['bootstrap'])\n",
    "RF_tuned.fit(temp_x_train, temp_y_train)\n",
    "y_pred = RF_tuned.predict(temp_x_val)\n",
    "print(classification_report(temp_y_val, y_pred, target_names=label_encoder.classes_))\n",
    "print(pd.DataFrame(confusion_matrix(temp_y_val, y_pred), index = label_encoder.classes_, columns = label_encoder.classes_))\n",
    "\n",
    "#---------- Syn data-------\n",
    "RF_tuned = RandomForestClassifier()\n",
    "rf_random_syn = RandomizedSearchCV(estimator = RF_tuned, param_distributions = random_grid, n_iter = 10, cv = 3, verbose=2, n_jobs = -1)\n",
    "rf_random_syn.fit(syn_temp_x_train, syn_temp_y_train)\n",
    "\n",
    "params = rf_random.best_params_\n",
    "print(params)\n",
    "RF_tuned = RandomForestClassifier(n_estimators=params['n_estimators'],\n",
    "                                  min_samples_split=params['min_samples_split'],\n",
    "                                  min_samples_leaf=params['min_samples_leaf'],\n",
    "                                  max_features=params['max_features'],\n",
    "                                  max_depth=params['max_depth'],\n",
    "                                  criterion=params['criterion'],\n",
    "                                  bootstrap=params['bootstrap'])\n",
    "RF_tuned.fit(syn_temp_x_train, syn_temp_y_train)\n",
    "y_pred = RF_tuned.predict(syn_temp_x_val)\n",
    "print(classification_report(y_test, y_pred, target_names=label_encoder.classes_))\n",
    "print(pd.DataFrame(confusion_matrix(y_test, y_pred), index = label_encoder.classes_, columns = label_encoder.classes_))\n",
    "\n",
    "# Evaluate performances on validation set\n",
    "knn_tuned = KNeighborsClassifier(n_neighbors = knn_cv.best_params_['n_neighbors'])# knn_cv.best_params_['n_neighbors']\n",
    "knn_tuned.fit(X_train_norm, y_train)\n",
    "y_pred = knn_tuned.predict(X_test_norm)\n",
    "print(classification_report(y_test, y_pred, target_names=label_encoder.classes_))\n",
    "print(pd.DataFrame(confusion_matrix(y_test, y_pred), index = label_encoder.classes_, columns = label_encoder.classes_))\n",
    "\n",
    "# -------------------------kNN ----------------------\n",
    "#---------- Regular data-------\n",
    "knn = KNeighborsClassifier()\n",
    "param_grid = {'n_neighbors': np.arange(1, 25)}\n",
    "knn_cv = GridSearchCV(knn, param_grid, cv=10)\n",
    "knn_cv.fit(temp_x_train, temp_y_train)\n",
    "print(knn_cv.best_params_['n_neighbors'])\n",
    "\n",
    "knn_tuned = KNeighborsClassifier(n_neighbors = knn_cv.best_params_['n_neighbors'])\n",
    "knn_tuned.fit(temp_x_train, temp_y_train)\n",
    "y_pred = knn_tuned.predict(temp_x_val)\n",
    "print(classification_report(temp_y_val, y_pred, target_names=label_encoder.classes_))\n",
    "print(pd.DataFrame(confusion_matrix(temp_y_val, y_pred), index = label_encoder.classes_, columns = label_encoder.classes_))\n",
    "\n",
    "#---------- Syn data-------\n",
    "knn = KNeighborsClassifier()\n",
    "param_grid = {'n_neighbors': np.arange(1, 25)}\n",
    "knn_cv_syn = GridSearchCV(knn, param_grid, cv=10)\n",
    "knn_cv_syn.fit(syn_temp_x_train, syn_temp_y_train)\n",
    "print(knn_cv.best_params_['n_neighbors'])\n",
    "\n",
    "knn_tuned = KNeighborsClassifier(n_neighbors = knn_cv_syn.best_params_['n_neighbors'])\n",
    "knn_tuned.fit(temp_x_train, temp_y_train)\n",
    "y_pred = knn_tuned.predict(temp_x_val)\n",
    "print(classification_report(temp_y_val, y_pred, target_names=label_encoder.classes_))\n",
    "print(pd.DataFrame(confusion_matrix(temp_y_val, y_pred), index = label_encoder.classes_, columns = label_encoder.classes_))"
   ]
  },
  {
   "cell_type": "markdown",
   "id": "31a1c6dc",
   "metadata": {},
   "source": [
    "We observe that hyptertuning the RF and KNN parameters will not produce favorable results."
   ]
  },
  {
   "cell_type": "markdown",
   "id": "f67dc7ef",
   "metadata": {},
   "source": [
    "# Repetition of the workflow"
   ]
  },
  {
   "cell_type": "code",
   "execution_count": null,
   "id": "82990928",
   "metadata": {
    "pycharm": {
     "is_executing": true
    }
   },
   "outputs": [],
   "source": [
    "REPETITIONS = 10\n",
    "\n",
    "# containers to hold the results\n",
    "rf_res = []\n",
    "knn_res = []\n",
    "rep_res = []\n",
    "\n",
    "syn_rf = []\n",
    "syn_knn = []\n",
    "syn_rep = []\n",
    "syn_DL = []\n",
    "\n",
    "for rep in range(REPETITIONS):\n",
    "    # Partition training|test\n",
    "    X_train, X_val, y_train, y_val = train_val_partition(realSpectra, class_vec)\n",
    "    #Normalize original spectra\n",
    "    X_train_norm,X_val_norm, realSpectraBounds = normalize_spectra(X_train,X_val)\n",
    "    #Synthesize new synthesized spectra\n",
    "    syn_X_train,syn_y_train = syn_data(X_train, y_train)\n",
    "    #Normalize synthesized spectra\n",
    "    syn_X_train_norm,_,synSpectraBounds = normalize_spectra(syn_X_train,realSpectraBounds=realSpectraBounds) # get bounds from the original data\n",
    "    \n",
    "    # --------- regular data\n",
    "    # kNN\n",
    "    knn_model = KNeighborsClassifier()\n",
    "    knn_model.fit(X_train_norm,y_train)\n",
    "    y_pred = knn_model.predict(X_val_norm)\n",
    "    knn_res.append(classification_report(y_val, y_pred, target_names=label_encoder.classes_, output_dict = True, zero_division=False))\n",
    "    # RF\n",
    "    rf_model = RandomForestClassifier()\n",
    "    rf_model.fit(X_train_norm,y_train)\n",
    "    y_pred = rf_model.predict(X_val_norm)\n",
    "    rf_res.append(classification_report(y_val, y_pred, target_names=label_encoder.classes_, output_dict = True, zero_division=False))\n",
    "    # Representative Spectra\n",
    "    y_pred = repSpectraClass(X_train_norm,y_train,X_val_norm)\n",
    "    rep_res.append(classification_report(y_val, y_pred, target_names=label_encoder.classes_, output_dict = True, zero_division=False))\n",
    "    \n",
    "    # --------- synthesized data\n",
    "    # kNN\n",
    "    knn_model.fit(syn_X_train_norm,syn_y_train)\n",
    "    y_pred = knn_model.predict(X_val_norm)\n",
    "    syn_knn.append(classification_report(y_val, y_pred, target_names=label_encoder.classes_, output_dict = True, zero_division=False))\n",
    "    # RF\n",
    "    rf_model.fit(syn_X_train_norm,syn_y_train)\n",
    "    y_pred = rf_model.predict(X_val_norm)\n",
    "    syn_rf.append(classification_report(y_val, y_pred, target_names=label_encoder.classes_, output_dict = True, zero_division=False))  \n",
    "    # Representative Spectra\n",
    "    y_pred = repSpectraClass(syn_X_train_norm,syn_y_train,X_val_norm)\n",
    "    syn_rep.append(classification_report(y_val, y_pred, target_names=label_encoder.classes_, output_dict = True, zero_division=False))   \n",
    "    # DL\n",
    "    model = makeModelDyn(input_shape=(SIZE_OF_SPECTRA), L=3)\n",
    "    model.compile(\n",
    "        optimizer=keras.optimizers.Adam(learning_rate=1*10**-5),\n",
    "        loss=\"sparse_categorical_crossentropy\",\n",
    "        metrics=[\"accuracy\"],\n",
    "    )\n",
    "    model.fit(syn_X_train_norm,syn_y_train.reshape((-1, 1)), epochs=20)\n",
    "    y_pred = np.argmax(model.predict(X_val_norm), axis=1)\n",
    "    syn_DL.append(classification_report(y_val, y_pred, target_names=label_encoder.classes_, output_dict = True, zero_division=False))"
   ]
  },
  {
   "cell_type": "code",
   "execution_count": null,
   "id": "5f4db3d7",
   "metadata": {
    "pycharm": {
     "is_executing": true
    }
   },
   "outputs": [],
   "source": [
    "def display_results(name,res_list):\n",
    "    print(\"-----------------------\\nResults for test \"+name)\n",
    "    materials = [\"BZ\", \"HR\", \"PD\", \"weighted avg\"]\n",
    "    for mat in materials:\n",
    "        recall,f1,precision  = [], [],[]\n",
    "        for exp in res_list:\n",
    "            recall.append(exp[mat][\"recall\"])\n",
    "            f1.append(exp[mat][\"f1-score\"])\n",
    "            precision.append(exp[mat][\"precision\"])\n",
    "        recall = np.array(recall)\n",
    "        f1 = np.array(f1)\n",
    "        precision = np.array(precision)\n",
    "        print(\n",
    "            \"\\n\"+mat+\"\\nRecall: \"+str(round(recall.mean(), 3)) + \" +|- \" + str(round(recall.std(), 3)) +\n",
    "            \"\\nPrecision:\"+str(round(precision.mean(), 3)) + \" +|- \" + str(round(precision.std(), 3)) +\n",
    "            \"\\nF1:\"+str(round(f1.mean(), 3)) + \" +|- \" + str(round(f1.std(), 3)) +\"\\n\")\n",
    "        \n",
    "display_results(\"KNN\",knn_res)\n",
    "display_results(\"RF\",rf_res)\n",
    "display_results(\"Representative\",rep_res)\n",
    "\n",
    "display_results(\"KNN on Synthesized data\",syn_rf)\n",
    "display_results(\"RF on Synthesized data\",syn_rep)\n",
    "display_results(\"Representative  on Synthesized data\",syn_knn)\n",
    "display_results(\"DL on Synthesized data\",syn_DL)"
   ]
  },
  {
   "cell_type": "code",
   "execution_count": null,
   "id": "44473b4e",
   "metadata": {
    "pycharm": {
     "is_executing": true
    }
   },
   "outputs": [],
   "source": [
    "testSpectra, test_class_vec, label_encoder = preprocess_data(test_db, SIZE_OF_SPECTRA, label_encoder)\n",
    "print(\"The shape of the processed test data is:\",testSpectra.shape)\n",
    "print(\"The size of the test class vector  is:\",test_class_vec.shape)"
   ]
  },
  {
   "cell_type": "code",
   "execution_count": null,
   "id": "7621524c",
   "metadata": {
    "pycharm": {
     "is_executing": true
    }
   },
   "outputs": [],
   "source": [
    "norm_syn_test,_, _ = normalize_spectra(testSpectra,realSpectraBounds=synSpectraBounds)\n",
    "print(\"----------------------------External Test sets----------------------------\")\n",
    "print(\"------- KNN models derived from synthesized data\")\n",
    "y_pred = knn_model.predict(norm_syn_test)\n",
    "print(classification_report(test_class_vec, y_pred, target_names=label_encoder.classes_, zero_division=False))\n",
    "print(pd.DataFrame(confusion_matrix(test_class_vec, y_pred), index = label_encoder.classes_, columns = label_encoder.classes_))\n",
    "\n",
    "print(\"------- RF models derived from synthesized data\")\n",
    "y_pred = rf_model.predict(norm_syn_test)\n",
    "print(classification_report(test_class_vec, y_pred, target_names=label_encoder.classes_, zero_division=False))\n",
    "print(pd.DataFrame(confusion_matrix(test_class_vec, y_pred), index = label_encoder.classes_, columns = label_encoder.classes_))\n",
    "\n",
    "print(\"------- Rep. Spectra models derived from synthesized data\")\n",
    "y_pred = repSpectraClass(X_train_norm,y_train,norm_syn_test)\n",
    "print(classification_report(test_class_vec, y_pred, target_names=label_encoder.classes_, zero_division=False))\n",
    "print(pd.DataFrame(confusion_matrix(test_class_vec, y_pred), index = label_encoder.classes_, columns = label_encoder.classes_))\n",
    "\n",
    "print(\"------- DL models derived from synthesized data\")\n",
    "y_pred = np.argmax(model.predict(norm_syn_test), axis=1)\n",
    "print(classification_report(test_class_vec, y_pred, target_names=label_encoder.classes_, zero_division=False))\n",
    "print(pd.DataFrame(confusion_matrix(test_class_vec, y_pred), index = label_encoder.classes_, columns = label_encoder.classes_))\n"
   ]
  },
  {
   "cell_type": "code",
   "execution_count": null,
   "id": "d109bcbb",
   "metadata": {
    "pycharm": {
     "is_executing": true
    }
   },
   "outputs": [],
   "source": []
  }
 ],
 "metadata": {
  "kernelspec": {
   "display_name": "Python 3 (ipykernel)",
   "language": "python",
   "name": "python3"
  },
  "language_info": {
   "codemirror_mode": {
    "name": "ipython",
    "version": 3
   },
   "file_extension": ".py",
   "mimetype": "text/x-python",
   "name": "python",
   "nbconvert_exporter": "python",
   "pygments_lexer": "ipython3",
   "version": "3.9.0"
  }
 },
 "nbformat": 4,
 "nbformat_minor": 5
}
